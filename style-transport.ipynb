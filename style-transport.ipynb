{
 "cells": [
  {
   "cell_type": "markdown",
   "metadata": {},
   "source": [
    "# Style Transport\n",
    "[![Open In Colab](https://colab.research.google.com/assets/colab-badge.svg)](https://colab.research.google.com/github/mdehling/kolkin-style-transport/blob/main/style-transport.ipynb)\n",
    "\n",
    "This notebook lets you try out image stylization using the approach described\n",
    "by Kolkin, Salavon, and Shakhnarovich in their article _Style Transfer by\n",
    "Relaxed Optimal Transport and Self-Similarity_.  For more details, see my\n",
    "github repositories [`kolkin-style-transport`](\n",
    "https://github.com/mdehling/kolkin-style-transport) and\n",
    "[`nstesia`](https://github.com/mdehling/nstesia)."
   ]
  },
  {
   "cell_type": "code",
   "execution_count": null,
   "metadata": {},
   "outputs": [],
   "source": [
    "# At the time of writing, the versions of pip and setuptools provided by colab\n",
    "# do not have full `pyproject.toml` support --- they must be updated before\n",
    "# installing the nstesia package.  This cell will do just that.\n",
    "try:\n",
    "    from google import colab\n",
    "\n",
    "    # Pull everything else from the repository in to the Colab environment.\n",
    "    !git config --global init.defaultBranch main\n",
    "    !git init .\n",
    "    !git remote add origin https://github.com/mdehling/kolkin-style-transport.git\n",
    "    !git pull --depth=1 origin main\n",
    "\n",
    "    # These are just to avoid some scary-looking (but harmless) error messages.\n",
    "    !pip uninstall -q -y numba\n",
    "    !pip install -q 'jedi>=0.10'\n",
    "\n",
    "    # Minimum versions required for PEP-660 support.\n",
    "    !pip install -q 'pip>=21.3' 'setuptools>=64'\n",
    "\n",
    "    # Finally install the one we came for.\n",
    "    !pip install -q -r requirements-colab.txt\n",
    "\n",
    "except ImportError:\n",
    "    pass"
   ]
  },
  {
   "cell_type": "code",
   "execution_count": null,
   "metadata": {},
   "outputs": [],
   "source": [
    "from IPython.display import display\n",
    "\n",
    "from os import environ as env\n",
    "env['TF_CPP_MIN_LOG_LEVEL'] = '2'               # hide info & warnings\n",
    "env['TF_FORCE_GPU_ALLOW_GROWTH'] = 'true'       # grow GPU memory as needed\n",
    "\n",
    "import tensorflow as tf\n",
    "import nstesia as nst"
   ]
  },
  {
   "cell_type": "code",
   "execution_count": null,
   "metadata": {},
   "outputs": [],
   "source": [
    "# When using Colab, select 'Change runtime type' from the 'Runtime' menu.\n",
    "assert tf.config.list_physical_devices('GPU'), \\\n",
    "    \"you really shouldn't run this notebook without a gpu\"\n"
   ]
  },
  {
   "cell_type": "markdown",
   "metadata": {},
   "source": [
    "## Simple Image Stylization"
   ]
  },
  {
   "cell_type": "code",
   "execution_count": null,
   "metadata": {},
   "outputs": [],
   "source": [
    "def show_image(image_tensor):\n",
    "    display(tf.keras.utils.array_to_img(tf.squeeze(image_tensor,axis=0)))"
   ]
  },
  {
   "cell_type": "code",
   "execution_count": null,
   "metadata": {},
   "outputs": [],
   "source": [
    "content_image = nst.io.load_image('img/content/brad.jpg')\n",
    "style_image = nst.io.load_image('img/style/van-gogh-self-portrait.jpg')\n",
    "\n",
    "pastiche_image = nst.kolkin_2019.generate_pastiche_image(\n",
    "    content_image, style_image,\n",
    "    content_weight=768.0,\n",
    "    learning_rate=3.0,\n",
    "    iterations=200,\n",
    ")\n",
    "show_image(pastiche_image)"
   ]
  },
  {
   "cell_type": "code",
   "execution_count": null,
   "metadata": {},
   "outputs": [],
   "source": [
    "# img/results/karya-to-flowers.png\n",
    "content_image = nst.io.load_image('img/content/karya.jpg')\n",
    "style_image = nst.io.load_image('img/style/bruegel-flowers.jpg')\n",
    "\n",
    "content_weights = [768, 384, 192, 96]\n",
    "N = len(content_weights)\n",
    "\n",
    "pastiche_images = []\n",
    "for content_weight in content_weights:\n",
    "    pastiche_image = nst.kolkin_2019.generate_pastiche_image(\n",
    "        content_image, style_image,\n",
    "        content_weight=content_weight,\n",
    "        learning_rate=1.0,\n",
    "        iterations=600,\n",
    "    )\n",
    "    pastiche_images.append(pastiche_image)\n",
    "\n",
    "grid_image = nst.image.grid(\n",
    "    [content_image] + [None]*(N-2) + [style_image] + pastiche_images,\n",
    "    ncols=N,\n",
    ")\n",
    "show_image(grid_image)"
   ]
  },
  {
   "cell_type": "markdown",
   "metadata": {},
   "source": [
    "## Content-Style Grids"
   ]
  },
  {
   "cell_type": "code",
   "execution_count": null,
   "metadata": {},
   "outputs": [],
   "source": [
    "def content_style_grid(\n",
    "    content_images,\n",
    "    style_images,\n",
    "    learning_rate=1.0,\n",
    "    content_weight=512.0,\n",
    "    iterations=600,\n",
    "):\n",
    "    \"\"\"\n",
    "    Show a grid of stylizations with content images as rows, styles as columns.\n",
    "\n",
    "    Args:\n",
    "        content_images:\n",
    "            A list of image tensors representing the content images.\n",
    "        style_images:\n",
    "            A list of image tensors representing the style images.\n",
    "\n",
    "    Returns:\n",
    "        An image representing the grid of stylizations.\n",
    "    \"\"\"\n",
    "    images = [None] + style_images\n",
    "    for content_image in content_images:\n",
    "        images += [content_image] + [\n",
    "            nst.kolkin_2019.generate_pastiche_image(\n",
    "                content_image, style_image,\n",
    "                learning_rate=learning_rate,\n",
    "                content_weight=content_weight,\n",
    "                iterations=iterations,\n",
    "            ) \n",
    "            for style_image in style_images\n",
    "        ]\n",
    "\n",
    "    return nst.image.grid(images, ncols=len(style_images)+1)"
   ]
  },
  {
   "cell_type": "code",
   "execution_count": null,
   "metadata": {},
   "outputs": [],
   "source": [
    "# img/results/content-style-matrix-1.png\n",
    "content_images = [\n",
    "    nst.io.load_image('img/content/sunflower.jpg'),\n",
    "    nst.io.load_image('img/content/bochum.jpg'),\n",
    "]\n",
    "style_images = [\n",
    "    nst.io.load_image('img/style/wescoat-candy.jpg'),\n",
    "    nst.io.load_image('img/style/picasso-briqueterie-a-tortosa.jpg'),\n",
    "    nst.io.load_image('img/style/picabia-udnie.jpg'),\n",
    "]\n",
    "grid_image = content_style_grid(content_images, style_images, content_weight=768)\n",
    "show_image(grid_image)"
   ]
  },
  {
   "cell_type": "code",
   "execution_count": null,
   "metadata": {},
   "outputs": [],
   "source": [
    "# img/results/content-style-matrix-2.png\n",
    "content_images = [\n",
    "    nst.io.load_image('img/content/brad.jpg'),\n",
    "    nst.io.load_image('img/content/karya.jpg'),\n",
    "]\n",
    "style_images = [\n",
    "    nst.io.load_image('img/style/petitjean-femmes-au-bain.jpg'),\n",
    "    nst.io.load_image('img/style/delaunay-portrait-de-metzinger.jpg'),\n",
    "    nst.io.load_image('img/style/munch-skrik.jpg'),\n",
    "]\n",
    "grid_image = content_style_grid(content_images, style_images, content_weight=512)\n",
    "show_image(grid_image)"
   ]
  }
 ],
 "metadata": {
  "kernelspec": {
   "display_name": "Python 3.7.13 ('base')",
   "language": "python",
   "name": "python3"
  },
  "language_info": {
   "codemirror_mode": {
    "name": "ipython",
    "version": 3
   },
   "file_extension": ".py",
   "mimetype": "text/x-python",
   "name": "python",
   "nbconvert_exporter": "python",
   "pygments_lexer": "ipython3",
   "version": "3.7.13"
  },
  "orig_nbformat": 4,
  "vscode": {
   "interpreter": {
    "hash": "d4d1e4263499bec80672ea0156c357c1ee493ec2b1c70f0acce89fc37c4a6abe"
   }
  }
 },
 "nbformat": 4,
 "nbformat_minor": 2
}
